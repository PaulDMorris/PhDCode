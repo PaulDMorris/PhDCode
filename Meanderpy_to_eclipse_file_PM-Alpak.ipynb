{
 "cells": [
  {
   "cell_type": "code",
   "execution_count": 1,
   "metadata": {},
   "outputs": [],
   "source": [
    "from __future__ import division\n",
    "import pdb\n",
    "import numpy as np\n",
    "import matplotlib.pyplot as plt\n",
    "import seaborn as sns  #\n",
    "sns.set_style(\"white\")\n",
    "sns.set_style(\"ticks\")\n",
    "\n",
    "#import meanderpyPM_MTD_Jan2021Amazon as mp \n",
    "#import meanderpyPM_MTD_Jan2021 as mp\n",
    "import meanderpyPM_MTD_RandomStacking4_Model as mp\n",
    "import pickle as pickle\n",
    "np.set_printoptions(threshold=100000)\n",
    "import os as os\n",
    "from imp import reload\n",
    "%matplotlib qt\n",
    "\n",
    "%load_ext autoreload\n"
   ]
  },
  {
   "cell_type": "markdown",
   "metadata": {},
   "source": [
    "### LOAD PREVIOUS MODEL"
   ]
  },
  {
   "cell_type": "code",
   "execution_count": 2,
   "metadata": {},
   "outputs": [],
   "source": [
    "##LOAD IN CENTERLINE FOR TRANSLATION\n",
    "chb=pickle.load(open(\"Alpak_ChannelBelt_May2022\", \"rb\")) ##LOAD IN CENTERLINE FOR AMAZON\n",
    "\n",
    "no_agg=0 \n",
    "low_agg=0\n",
    "med_agg=31\n",
    "high_agg=31\n",
    "\n",
    "#chb = __init__(self, channels, cutoffs, cl_times, cutoff_times, MTDs, MTD_times):"
   ]
  },
  {
   "cell_type": "code",
   "execution_count": null,
   "metadata": {},
   "outputs": [],
   "source": [
    "##Look at channel times so you can choose one to be an MTD\n",
    "chb.cl_times"
   ]
  },
  {
   "cell_type": "code",
   "execution_count": null,
   "metadata": {},
   "outputs": [],
   "source": [
    "## ADD MTD INTO MODEL\n",
    "\n",
    "chb.MTD_times.append(5168)"
   ]
  },
  {
   "cell_type": "markdown",
   "metadata": {},
   "source": [
    "### INPUT PARAMETERS"
   ]
  },
  {
   "cell_type": "code",
   "execution_count": 3,
   "metadata": {},
   "outputs": [
    {
     "name": "stdout",
     "output_type": "stream",
     "text": [
      "Alpha =0.0016\n",
      "Model on 0.0 degree incline\n"
     ]
    }
   ],
   "source": [
    "#MCHARGUE ORGANIZED BEHAVIOUR HARD CODED INTO .PY FILE\n",
    "\n",
    "W = 600 #600.0                    # channel width (m)\n",
    "D = 60#60.0                     # channel depth (m)\n",
    "pad = 5                   # padding (number of nodepoints along centerline)\n",
    "#deltas = W/2                # sampling distance along centerline\n",
    "deltas=W/2\n",
    "saved_ts = 10            # which time steps will be saved         \n",
    "Cf = 0.048                # dimensionless Chezy friction factor\n",
    "#crdist = 2.5*W               # threshold distance at which cutoffs occur\n",
    "crdist = 1*W \n",
    "kl = 8/(365*24*60*60.0)   # migration rate constant (m/s)\n",
    "kv =  1.0E-11               # vertical slope-dependent erosion rate constant (m/s)\n",
    "dt = 2*365*24*60*60.0 # 0.2 years\n",
    "dens = 1000                  # density of water (kg/m3)\n",
    "n_bends = 25                 # approximate number of bends you want to model\n",
    "Sl = 0.000 # initial slope (matters more for submarine channels than rivers)\n",
    "#Sl=0\n",
    "bthc = 0.25*D                 # Max thickness of deposited channel sand\n",
    "#t1 = 500                    # time step when incision starts\n",
    "#t2 = 700                    # time step when lateral migration starts\n",
    "#t3 = 1400                    # time step when aggradation starts\n",
    "#aggr_factor = 4e-9           # aggradation factor (m/s, about 0.18 m/year, it kicks in after t3)\n",
    "\n",
    "print(f\"Alpha ={1*2*Cf/D}\")\n",
    "\n",
    "print(f\"Model on {np.arctan(Sl)*180/np.pi} degree incline\")"
   ]
  },
  {
   "cell_type": "markdown",
   "metadata": {},
   "source": [
    "### INPUT TRAJECTORY"
   ]
  },
  {
   "cell_type": "code",
   "execution_count": 4,
   "metadata": {},
   "outputs": [],
   "source": [
    "#dzinput=(0,0,-0.4,-0.4,-0.4,-0.4,0,0,0.3,0.3,0.35,0.35)  \n",
    "   \n",
    "#timeinput=(0,2200,2201,2540,2541,2880,2881,3700,3701,3780,3781,4480)\n",
    "\n",
    "dzinput=(0.0,0.0) \n",
    "   \n",
    "timeinput=(0,99999)\n",
    "\n",
    "#######AMAZON########\n",
    "#dzinput=(0.3,0.3) \n",
    "   \n",
    "#timeinput=(0,560)   \n",
    "#######################\n",
    "\n",
    "######BENINTEST######\n",
    "#dzinput=(0,0,-0.4,-0.4,0,0,0.3,0.3,0.35,0.35)  \n",
    "   \n",
    "#timeinput=(0,2200,2201,2880,2881,3700,3701,3780,3781,4200)\n",
    "\n",
    "#######BENINLIKE - PAPER ONE#######################################\n",
    "#dzinput=(0,0,-0.4,-0.4,0,0,0.3,0.3,0.3,0.3)  \n",
    "   \n",
    "#timeinput=(0,2200,2201,2880,2881,3700,3701,3780,3781,4480)\n",
    "###############################################################\n",
    "\n",
    "\n",
    "#######ZAIRELIKE - PAPER ONE#######################################\n",
    "#dzinput=(0,0,-0.4,-0.4,0,0)  \n",
    "   \n",
    "#timeinput=(0,2200,2201,2880,2881,3700)\n",
    "###############################################################"
   ]
  },
  {
   "cell_type": "code",
   "execution_count": 5,
   "metadata": {},
   "outputs": [],
   "source": [
    "reload(mp)\n",
    "nit = np.max(timeinput)  # number of iterations\n",
    "\n",
    "dz_trajectory, Z_trajectory, CLZjump,CLZjumpbthc = mp.Compute_Trajectory(nit,saved_ts,timeinput,dzinput,bthc)\n"
   ]
  },
  {
   "cell_type": "code",
   "execution_count": null,
   "metadata": {},
   "outputs": [],
   "source": [
    "print(dz_trajectory[1000])"
   ]
  },
  {
   "cell_type": "markdown",
   "metadata": {},
   "source": [
    "### INITIAL CHANNEL BELT AND HK"
   ]
  },
  {
   "cell_type": "code",
   "execution_count": null,
   "metadata": {},
   "outputs": [],
   "source": [
    "reload(mp)\n",
    "ch,sinuosity = mp.generate_initial_channel(W,D,Sl,deltas,pad,n_bends) # initialize channel\n",
    "chb = mp.ChannelBelt(channels=[ch],cutoffs=[],cl_times=[0.0],cutoff_times=[],MTDs=[],MTD_times=[]) # create channel belt object"
   ]
  },
  {
   "cell_type": "code",
   "execution_count": null,
   "metadata": {},
   "outputs": [],
   "source": [
    "channel=chb.channels[-1]"
   ]
  },
  {
   "cell_type": "code",
   "execution_count": null,
   "metadata": {},
   "outputs": [],
   "source": [
    "print(sinuosity)"
   ]
  },
  {
   "cell_type": "code",
   "execution_count": null,
   "metadata": {
    "scrolled": true
   },
   "outputs": [],
   "source": [
    "#chb.migrate_PM_RANDOM(nit,saved_ts,deltas,pad,crdist,Cf,kl,kv,dt,dens,dz_trajectory,D) # channel migration\n",
    "\n",
    "no_agg=0 #biut fo erosion (no real vertical movement) MCHargue Stage 1\n",
    "low_agg=1\n",
    "med_agg=30\n",
    "high_agg=30 #last few channels are highly aggradaitonal and organized stacking but then abandoned\n",
    "\n",
    "#no_agg=10 \n",
    "#low_agg=20\n",
    "#med_agg=30\n",
    "#high_agg=30\n",
    "\n",
    "chb.migrate_PM_RANDOM(nit,saved_ts,deltas,pad,crdist,Cf,kl,kv,dt,dens,dz_trajectory,no_agg,low_agg,med_agg,high_agg,D)\n",
    "\n",
    "fig = chb.plot('strat',1000000,1000000,end_time=99999999,n_channels=(len(chb.cutoffs) + len(chb.channels)))# plotting #green numbers age at which stuff gets covered by vegetation"
   ]
  },
  {
   "cell_type": "code",
   "execution_count": null,
   "metadata": {},
   "outputs": [],
   "source": [
    "fig = chb.plot('strat',1000000,1000000,end_time=99999999,n_channels=(len(chb.cutoffs) + len(chb.channels)))# plotting #green numbers age at which stuff gets covered by vegetation"
   ]
  },
  {
   "cell_type": "code",
   "execution_count": null,
   "metadata": {},
   "outputs": [],
   "source": [
    "#LOAD IN FinalChanel\n",
    "file=open('U_kl8_FinalChannel', 'rb') #LOAD IN ZAIRE-LIKE CHANNEL BELT MODEL\n",
    "#chb=pickle.load(file)\n",
    "chb.channels[-1]\n"
   ]
  },
  {
   "cell_type": "code",
   "execution_count": null,
   "metadata": {},
   "outputs": [],
   "source": [
    "#SAVE CHANNEL BELT INSTANCE\n",
    "ChannelBelt=chb\n",
    "pickle.dump(ChannelBelt,open(\"Alpak_ChannelBelt_May2022\", \"wb\"),pickle.HIGHEST_PROTOCOL)"
   ]
  },
  {
   "cell_type": "code",
   "execution_count": 6,
   "metadata": {},
   "outputs": [
    {
     "name": "stdout",
     "output_type": "stream",
     "text": [
      "The number of cut-offs = 0\n",
      "The number of centerlines = 30\n",
      "Bed Thickness = is 15.0 meters\n",
      "[0.0, 1196.0, 2266.0, 3380.0, 4574.0, 5634.0, 6648.0, 7804.0, 8930.0, 10138.0, 11240.0, 12328.0, 13422.0, 14450.0, 15554.0, 16698.0, 17756.0, 18878.0, 19920.0, 21010.0, 22222.0, 23246.0, 24400.0, 25506.0, 26736.0, 27792.0, 28824.0, 29988.0, 31010.0, 32066.0]\n",
      "30\n",
      "MTD times = []\n"
     ]
    }
   ],
   "source": [
    "print(f\"The number of cut-offs = {len(chb.cutoffs)}\")\n",
    "print(f\"The number of centerlines = {len(chb.channels)}\")\n",
    "#print(f\"The number of MTD's = {len(chb.MTDs)}\")\n",
    "print(f\"Bed Thickness = is {bthc} meters\")\n",
    "print(chb.cl_times)\n",
    "print(len(chb.cl_times))\n",
    "print(f\"MTD times = {chb.MTD_times}\")"
   ]
  },
  {
   "cell_type": "code",
   "execution_count": null,
   "metadata": {},
   "outputs": [],
   "source": [
    "plt.figure()\n",
    "for i in range(len(chb.channels)):\n",
    "    x,y,z,dx,dy,dz,ds,s = mp.resample_centerline(chb.channels[i].x, chb.channels[i].y, chb.channels[i].z, deltas)\n",
    "    z = np.minimum.accumulate(-z[::-1])\n",
    "    z = -z[::-1]\n",
    "    plt.plot(s, z, 'k')"
   ]
  },
  {
   "cell_type": "code",
   "execution_count": null,
   "metadata": {},
   "outputs": [],
   "source": [
    "for i in range(len(chb.channels)):\n",
    "    chb.channels[i].z = np.minimum.accumulate(-chb.channels[i].z[::-1])\n",
    "    chb.channels[i].z = -chb.channels[i].z[::-1]"
   ]
  },
  {
   "cell_type": "code",
   "execution_count": null,
   "metadata": {},
   "outputs": [],
   "source": [
    "len(xmin)"
   ]
  },
  {
   "cell_type": "markdown",
   "metadata": {},
   "source": [
    "### BUILD 3D MODEL"
   ]
  },
  {
   "cell_type": "code",
   "execution_count": 7,
   "metadata": {},
   "outputs": [],
   "source": [
    "#%matplotlib qt\n",
    "starttime=int(chb.cl_times[1])\n",
    "endtime=chb.cl_times[-1]\n",
    "dx=30\n",
    "levee_width=12000\n",
    "h = 1.0*D # channel depth\n",
    "w = 1.0*W # channel width\n",
    "dcr=bthc\n",
    "#bth = bthc*np.ones(((len(chb.cl_times[0:]),)))\n",
    "bth=bthc\n",
    "delta_s=deltas\n",
    "TurbidityCurrentHeight = 150\n",
    "CLZjump=CLZjump\n",
    "#h_mud = 3.0*np.ones((len(chb.cl_times[0:]),))\n",
    "h_mud = 3.0#THIS IS A DUMMY VARIABLE"
   ]
  },
  {
   "cell_type": "code",
   "execution_count": 8,
   "metadata": {},
   "outputs": [
    {
     "name": "stdout",
     "output_type": "stream",
     "text": [
      "Percent: [###################-] 96.55172413793103%  "
     ]
    }
   ],
   "source": [
    "reload(mp)\n",
    "\n",
    "#Amazon\n",
    "\n",
    "#xmin=15000\n",
    "#xmax=21000ccc\n",
    "\n",
    "\n",
    "#ymin=-2000\n",
    "#ymax=2000\n",
    "\n",
    "###Benin and Zaire###\n",
    "#xmin=35000\n",
    "#xmax=45000\n",
    "#ymin=-5000\n",
    "#ymax=5000\n",
    "\n",
    "xmin=41000\n",
    "xmax=51000\n",
    "ymin=-5000\n",
    "ymax=5000\n",
    "\n",
    "#chb_3d, xmin, xmax, ymin, ymax,indices,dists,zmaps = chb.build_3d_model_PM_MTD_RANDOM('submarine',h_mud=h_mud,levee_width=levee_width,h=h,w=w,bth=bth,\n",
    "#                            dcr=dcr,dx=dx,delta_s=delta_s,starttime=chb.cl_times[0],endtime=chb.cl_times[-1],xmin=xmin,xmax=xmax,ymin=ymin,ymax=ymax,CLZjump=CLZjump,TurbidityCurrentHeight=TurbidityCurrentHeight)\n",
    "\n",
    "chb_3d, xmin, xmax, ymin, ymax,indices,dists,zmaps = chb.build_3d_model_PM_MTD_RANDOM2('submarine',h_mud=h_mud,levee_width=levee_width,h=h,w=w,bth=bth,\n",
    "                            dcr=dcr,dx=dx,delta_s=delta_s,starttime=chb.cl_times[0],endtime=chb.cl_times[-1],xmin=xmin,xmax=xmax,ymin=ymin,ymax=ymax,CLZjump=CLZjump,TurbidityCurrentHeight=TurbidityCurrentHeight,no_agg=no_agg,low_agg=low_agg,med_agg=med_agg,high_agg=high_agg)\n",
    "\n",
    "\n"
   ]
  },
  {
   "cell_type": "code",
   "execution_count": null,
   "metadata": {},
   "outputs": [],
   "source": [
    "xsec_start=int(0)\n",
    "xsec_end=int((xmax-xmin)/dx)\n",
    "Ztrajectory=[1,1]\n",
    "Msb_MAXEntireBelt, Msb_MINEntireBelt, Msb_MEANEntireBelt, CrossSecBeltAveragedStratMobility_OVERALL ,Normalised_Belt_Heights ,Normalised_Belt_Widths, Belt_Aspect_Ratio_OVERALL=chb_3d.Msb_EntireChannelBelt(xsec_start,xsec_end,w,h,Ztrajectory)\n"
   ]
  },
  {
   "cell_type": "code",
   "execution_count": null,
   "metadata": {},
   "outputs": [],
   "source": [
    "chb_3d.Plot_Msb_ChannelBelt(Msb_MAXEntireBelt, Msb_MINEntireBelt, Msb_MEANEntireBelt, CrossSecBeltAveragedStratMobility_OVERALL,Normalised_Belt_Heights ,Normalised_Belt_Widths,Belt_Aspect_Ratio_OVERALL)"
   ]
  },
  {
   "cell_type": "code",
   "execution_count": null,
   "metadata": {},
   "outputs": [],
   "source": [
    "#CHECK topographic evolution\n",
    "\n",
    "for i in range(0,10):\n",
    "    plt.figure()\n",
    "    plt.plot(chb_3d.topo[:,300,i])"
   ]
  },
  {
   "cell_type": "code",
   "execution_count": null,
   "metadata": {},
   "outputs": [],
   "source": [
    "#Check Channel Heights"
   ]
  },
  {
   "cell_type": "code",
   "execution_count": null,
   "metadata": {},
   "outputs": [],
   "source": [
    "McHargueModel_chb_3d=chb_3d\n",
    "\n",
    "#os.chdir('/Users/paulmorris/Documents/JoshuaChannel/Post Paradigm/Python 3/August 2020 Centerlines/')\n",
    "#pickle.dump(JoshuaModel_chb_3d, open(\"JoshuaModel_chb_3d\", \"wb\"),pickle.HIGHEST_PROTOCOL)\n",
    "\n",
    "os.chdir('/Users/paulmorris/Documents/Flow Sim Paper/Fall 2021 New Stuff/Python Models/')\n",
    "\n",
    "with open(\"McHargueModel_chb_3d_Fall2021\", \"wb\") as file_:\n",
    "    pickle.dump(McHargueModel_chb_3d, file_, -1)"
   ]
  },
  {
   "cell_type": "code",
   "execution_count": null,
   "metadata": {},
   "outputs": [],
   "source": [
    "ci=20\n",
    "chb_3d.plot_top_and_bottom_surfaces(ci)\n"
   ]
  },
  {
   "cell_type": "code",
   "execution_count": 9,
   "metadata": {},
   "outputs": [],
   "source": [
    "fig1,fig2,fig3 = chb_3d.plot_xsection_PM_MTD(200, 5,indices)"
   ]
  },
  {
   "cell_type": "markdown",
   "metadata": {},
   "source": [
    "##### np.shape(chb_3d.strat)"
   ]
  },
  {
   "cell_type": "code",
   "execution_count": null,
   "metadata": {},
   "outputs": [],
   "source": [
    "len(chb.channels)"
   ]
  },
  {
   "cell_type": "markdown",
   "metadata": {},
   "source": [
    "### PROPERTY MODELING AND EXPORT "
   ]
  },
  {
   "cell_type": "code",
   "execution_count": null,
   "metadata": {},
   "outputs": [],
   "source": [
    "ny, nx, nz = np.shape(chb_3d.strat)\n",
    "h = D # channel depth\n",
    "porosity = np.zeros((ny-1,nx-1,nz-1)) # property grids have to be one element smaller than the actual grid\n",
    "\n",
    "poro_max=0.35\n",
    "trend=8\n",
    "\n",
    "indices=np.where(np.in1d(chb.cl_times, chb.MTD_times))[0] #finds MTD times\n",
    "\n",
    "for i in range(zmaps.shape[2]): # only working with channel sands\n",
    "    \n",
    "    if i in indices: #This sets MTD fills to be a certain poro perm value\n",
    "        porosity[:,:,3*i+2]=0.01\n",
    "        \n",
    "    else:\n",
    "        hat = np.abs(chb_3d.topo[:,:,4*i+1] - zmaps[:,:,i] + h) # height above thalweg\n",
    "        th = chb_3d.topo[:,:,4*i+4] - chb_3d.topo[:,:,4*i+3] # thickness of channel deposit\n",
    "        hat[th==0] = 1000 # set a large HAT value where thickness is zero (we want zero porosity here)\n",
    "        #t = 0.25*(hat[1:,1:]+hat[1:,:-1]+hat[:-1,1:]+hat[:-1,:-1]) # average HAT for porosity grid\n",
    "        t = 0.25*(hat[1:,1:]+hat[1:,:-1]+hat[:-1,1:]+hat[:-1,:-1]) # average HAT for porosity grid\n",
    "        t = t-np.min(t)\n",
    "\n",
    "        #t[t>30] = 30 \n",
    "        t[t>trend] = trend #lower number means porosity reduces more rapidly into margin\n",
    "\n",
    "        # porosity is a function of elevation (the higher the elevation, the lower the porosity):\n",
    "        #t = 0.35 - 0.35*(t/30.0)\n",
    "        t = poro_max - poro_max*(t/trend) #Max porosity is 0.25\n",
    "\n",
    "        porosity[:,:,3*i+2] = t # assign porosity\n",
    "    \n",
    "#PAUL CODE - Turn cells either side in model ON or OFF\n",
    "\n",
    "#porosity[:,:,:]=0\n",
    "\n",
    "#porosity[:,:,:]=0\n",
    "\n",
    "\n",
    "porosity[porosity>poro_max] = poro_max\n",
    "permeability = 10**(17*porosity-3)\n",
    "permeability[porosity==0] = 0"
   ]
  },
  {
   "cell_type": "code",
   "execution_count": null,
   "metadata": {},
   "outputs": [],
   "source": [
    "# QC porosity volume\n",
    "\n",
    "plt.figure()\n",
    "plt.imshow(porosity[:,:,2])\n",
    "plt.colorbar()"
   ]
  },
  {
   "cell_type": "code",
   "execution_count": null,
   "metadata": {},
   "outputs": [],
   "source": [
    "# QC porosity volume\n",
    "\n",
    "plt.figure()\n",
    "plt.imshow(porosity[:,:,305])\n",
    "plt.colorbar()"
   ]
  },
  {
   "cell_type": "code",
   "execution_count": null,
   "metadata": {},
   "outputs": [],
   "source": [
    "# QC porosity volume\n",
    "\n",
    "plt.figure()\n",
    "plt.imshow(porosity[:,:,272])\n",
    "plt.colorbar()"
   ]
  },
  {
   "cell_type": "code",
   "execution_count": null,
   "metadata": {},
   "outputs": [],
   "source": [
    "np.shape(porosity)"
   ]
  },
  {
   "cell_type": "code",
   "execution_count": null,
   "metadata": {},
   "outputs": [],
   "source": [
    "os.chdir('/Users/paulmorris/Documents/Flow Sim Paper/Fall 2021 New Stuff/Eclipse Models')"
   ]
  },
  {
   "cell_type": "code",
   "execution_count": null,
   "metadata": {},
   "outputs": [],
   "source": [
    "def write_eclipse_grid(strat,porosity,permeability,dx,fname):\n",
    "    '''function for exporting an Eclipse file ('.grdecl' format)\n",
    "    from an array of stratigraphic surfaces ('strat') and an array of \n",
    "    porosity ('porosity'); (additional 'keywords' like ACTNUM and SATNUM \n",
    "    can be added the same way as porosity)\n",
    "\n",
    "    ordering of cornerpoints for first (uppermost) surface in Eclipse:\n",
    "    ----------------------------------------\n",
    "    | 1        2 | 3        4 | 5        6 | \n",
    "    |            |            |            |\n",
    "    | 7        8 | 9       10 | 11      12 |\n",
    "    ----------------------------------------\n",
    "    | 13      14 | 15      16 | 17      18 |\n",
    "    |            |            |            |\n",
    "    | 19      20 | 21      22 | 23      24 |\n",
    "    ----------------------------------------\n",
    "\n",
    "    Inputs:\n",
    "    strat - stratigraphic surfaces (outputs from channel model)\n",
    "    porosity - porosity grid\n",
    "    dx - gridcell size (in meters)\n",
    "    fname - filename of the Eclipse file to be written\n",
    "    '''\n",
    "\n",
    "    # these swaps have to be done because the logic below was written for this ordering of the axes\n",
    "    surfs = np.swapaxes(strat, 0, 2) \n",
    "    surfs = np.swapaxes(surfs, 1, 2)\n",
    "    porosity = np.swapaxes(porosity, 0, 2)\n",
    "    porosity = np.swapaxes(porosity, 1, 2)\n",
    "    permeability = np.swapaxes(permeability, 0, 2)\n",
    "    permeability = np.swapaxes(permeability, 1, 2)\n",
    "    \n",
    "    nz,ny,nx = np.shape(surfs);\n",
    "    nz=nz-1 # number of cells in z direction\n",
    "    ny=ny-1 # number of cells in y direction\n",
    "    nx=nx-1 # number of cells in x direction\n",
    "\n",
    "    dy=dx  # size of cells in x and y directions\n",
    "\n",
    "    print('creating cornerpoint array(ZCORN)')\n",
    "    zcorn = np.zeros((8*nx*ny*nz,))\n",
    "    for k in range(nz):\n",
    "        # write cornerpoints for the top of layer 'k':\n",
    "        surf = np.squeeze(surfs[k,:,:])\n",
    "        zc = np.zeros((2*ny,2*nx))\n",
    "        zc[::2,::2] = surf[:-1,:-1]\n",
    "        zc[1::2,1::2] = surf[1:,1:]\n",
    "        zc[1::2,::2] = surf[1:,:-1]\n",
    "        zc[::2,1::2] = surf[:-1,1:]\n",
    "        zc = np.reshape(zc,(1,4*nx*ny))\n",
    "        zcorn[(2*k)*4*nx*ny : (2*k+1)*4*nx*ny] = zc;\n",
    "        \n",
    "        # write cornerpoints for the bottom of layer 'k':\n",
    "        surf = np.squeeze(surfs[k+1,:,:])\n",
    "        zc = np.zeros((2*ny,2*nx));\n",
    "        zc[::2,::2] = surf[:-1,:-1]\n",
    "        zc[1::2,1::2] = surf[1:,1:]\n",
    "        zc[1::2,::2] = surf[1:,:-1]\n",
    "        zc[::2,1::2] = surf[:-1,1:]\n",
    "        zc = np.reshape(zc,(1,4*nx*ny))\n",
    "        zcorn[(2*k+1)*4*nx*ny : (2*k+2)*4*nx*ny] = zc\n",
    "    zcorn = np.reshape(zcorn, (int(len(zcorn)/8), 8))\n",
    "    zcorn = 100 * zcorn # convert meters to centimeters\n",
    "\n",
    "    print('creating pillar matrix (COORD)')\n",
    "    coord = np.zeros(((nx+1)*(ny+1),6));\n",
    "    for j in range(ny+1):\n",
    "        for i in range(nx+1):\n",
    "            coord[j*(nx+1)+i,0] = i*dx\n",
    "            coord[j*(nx+1)+i,1] = j*dy\n",
    "            coord[j*(nx+1)+i,2] = surfs[0,j,i] \n",
    "            coord[j*(nx+1)+i,3] = i*dx\n",
    "            coord[j*(nx+1)+i,4] = j*dy\n",
    "            coord[j*(nx+1)+i,5] = surfs[-1,j,i]\n",
    "    coord = 100 * coord # convert meters to centimeters\n",
    "\n",
    "    print('creating porosity array (PORO)')\n",
    "    poro = np.zeros((nx*ny*nz,))\n",
    "    [i,j,k] = np.meshgrid(np.arange(nx),np.arange(ny),np.arange(nz))\n",
    "    ind1 = k*nx*ny + j*nx+i \n",
    "    ind2 = np.ravel_multi_index((k,j,i),(nz,ny,nx))\n",
    "    poro[ind1] = porosity.flatten()[ind2]\n",
    "    if np.mod(len(poro),8)==0: # if length of porosity array is a multiple of 8\n",
    "        poro_1 = np.reshape(poro, (int(len(poro)/8), 8))\n",
    "    else:\n",
    "        poro_1 = np.reshape(poro[:-np.mod(len(poro),8)], (int(len(poro)/8), 8))\n",
    "\n",
    "    print('creating permeability array (PERM)')\n",
    "    perm = np.zeros((nx*ny*nz,))\n",
    "    perm[ind1] = permeability.flatten()[ind2]\n",
    "    if np.mod(len(perm),8)==0: # if length of porosity array is a multiple of 8\n",
    "        perm_1 = np.reshape(perm, (int(len(perm)/8), 8))\n",
    "    else:\n",
    "        perm_1 = np.reshape(perm[:-np.mod(len(perm),8)], (int(len(perm)/8), 8))\n",
    "    \n",
    "    # write file:\n",
    "    fid = open(fname, 'a')\n",
    "    fid.write('SPECGRID\\n')\n",
    "    fid.write('%d %d %d' %(nx, ny, nz) + ' 1 F /\\n')\n",
    "    fid.write('COORD\\n')\n",
    "    print('writing pillars...')\n",
    "    for i in range(coord.shape[0]):\n",
    "        fid.write('%6.3f %6.3f %6.3f %6.3f %6.3f %6.3f\\n' %tuple(coord[i,:]))\n",
    "    fid.write('/\\n')\n",
    "    fid.write(' ')\n",
    "    fid.write('\\n')\n",
    "    fid.write('ZCORN\\n')\n",
    "    print('writing zcorns...')\n",
    "    for i in range(zcorn.shape[0]):\n",
    "        fid.write('%6.3f %6.3f %6.3f %6.3f %6.3f %6.3f %6.3f %6.3f\\n' %tuple(zcorn[i,:]))\n",
    "    fid.write('/\\n')\n",
    "    fid.write(' ')\n",
    "    fid.write('\\n')\n",
    "    fid.write('PORO\\n')\n",
    "    print('writing porosity...')\n",
    "    for i in range(poro_1.shape[0]):\n",
    "        fid.write('%6.4f %6.4f %6.4f %6.4f %6.4f %6.4f %6.4f %6.4f\\n' %tuple(poro_1[i,:]))\n",
    "    if np.mod(len(poro),8)!=0: # if length of porosity array is not a multiple of 8\n",
    "        for i in range(np.mod(len(poro),8)):\n",
    "            fid.write('%6.4f ' %poro[-np.mod(len(poro),8):][i])\n",
    "        fid.write('\\n')\n",
    "    fid.write('/\\n')\n",
    "    fid.write(' ')\n",
    "    fid.write('\\n')\n",
    "    fid.write('PERMX\\n')\n",
    "    print('writing permeability...')\n",
    "    for i in range(perm_1.shape[0]):\n",
    "        fid.write('%6.4f %6.4f %6.4f %6.4f %6.4f %6.4f %6.4f %6.4f\\n' %tuple(perm_1[i,:]))\n",
    "    if np.mod(len(perm),8)!=0: # if length of porosity array is not a multiple of 8\n",
    "        for i in range(np.mod(len(perm),8)):\n",
    "            fid.write('%6.4f ' %perm[-np.mod(len(perm),8):][i])\n",
    "        fid.write('\\n')\n",
    "    fid.write('/\\n')\n",
    "    fid.close()"
   ]
  },
  {
   "cell_type": "code",
   "execution_count": null,
   "metadata": {},
   "outputs": [],
   "source": [
    "#dx = 30.0\n",
    "write_eclipse_grid(-1*(chb_3d.strat[:,:,::-1]-500), porosity[:,:,::-1], permeability[:,:,::-1], dx, 'Alpak_w600_Feb22.grdecl')"
   ]
  },
  {
   "cell_type": "markdown",
   "metadata": {},
   "source": [
    "### SHOW 3D MODEL MAYAVI"
   ]
  },
  {
   "cell_type": "code",
   "execution_count": null,
   "metadata": {},
   "outputs": [],
   "source": [
    "import blockdiagramPaul as bd\n",
    "from mayavi import mlab \n",
    "reload(bd)\n",
    "%matplotlib qt\n",
    "\n",
    "mlab.figure(bgcolor=(1,1,1)) \n",
    "ve = 5.0 # vertical exaggeration\n",
    "scale = 0.1 # scaling of diagram (important for 3D printing)\n",
    "strat_switch = 1 # equals 1 if you want stratigraphy displayed on the sides\n",
    "layers_switch = 0 # equals 1 if you want stratigraphic boundaries displayed on the sides\n",
    "contour_switch = 1 # equals 1 if you want contours displayed on the top surface\n",
    "dx = 30.0 # cell size for display\n",
    "bottom = np.min(chb_3d.strat) - 1.5 # elevation of bottom side of diagram\n",
    "color_mode = 'facies' # determines how the stratigraphy will be colored; can be 'property', 'facies', or 'time'\n",
    "colors = [[0.5,0.5,0.5],[0.9,0.9,0],[0.5,0.5,0.5]] # colors for 'facies' display\n",
    "line_thickness = 1.0 # thickness of lines if 'layers_switch' is 1\n",
    "gap = 120 # distance between exploded blocks (if any; in number of gridcells)\n",
    "h = h # channel depth (m)\n",
    "nx = 1 # number of blocks in x direction\n",
    "ny = 1\n",
    "export = 0\n",
    "ci=20\n",
    "bd.create_exploded_view(chb_3d.strat,chb_3d.facies,chb_3d.topo,h,nx,ny,gap,dx,ve,scale,strat_switch,\n",
    "                        layers_switch,contour_switch,color_mode,colors,line_thickness,bottom,export,ci)"
   ]
  },
  {
   "cell_type": "code",
   "execution_count": null,
   "metadata": {},
   "outputs": [],
   "source": [
    "gap=120\n",
    "bd.create_exploded_view(chb_3d.strat,chb_3d.facies,chb_3d.topo,h,2,2,gap,dx,ve,scale,strat_switch,\n",
    "                        layers_switch,contour_switch,color_mode,colors,line_thickness,bottom,export)"
   ]
  },
  {
   "cell_type": "markdown",
   "metadata": {},
   "source": [
    "#### Create fence diagram"
   ]
  },
  {
   "cell_type": "code",
   "execution_count": null,
   "metadata": {},
   "outputs": [],
   "source": [
    "mlab.figure(bgcolor=(1,1,1))\n",
    "bd.create_fence_diagram(chb_3d.strat,chb_3d.facies,chb_3d.topo,h,4,2,gap,dx,ve,scale,layers_switch,color_mode,colors,line_thickness,bottom,export)"
   ]
  },
  {
   "cell_type": "markdown",
   "metadata": {},
   "source": [
    "# #Animation"
   ]
  },
  {
   "cell_type": "code",
   "execution_count": null,
   "metadata": {},
   "outputs": [],
   "source": [
    "import blockdiagramPaul as bd\n",
    "from mayavi import mlab \n",
    "\n",
    "mlab.figure(bgcolor=(1,1,1),size=(2500,1500))\n",
    "##ISOMETRIC###\n",
    "#mlab.view(azimuth=45,elevation=54.7356, distance=2755.8, focalpoint=[  499.        ,  499.      ,   28.07007721]) \n",
    "\n",
    "#PLANVIEW\n",
    "#mlab.view(azimuth=270,elevation=0, distance=27365.6, focalpoint=[  4990.        ,  4990.      ,   281.07007721]) \n",
    "\n",
    "#XSECTIONVIEW\n",
    "mlab.view(azimuth=-90,elevation=90, distance=1000, focalpoint=[  4990.        ,  4990.      ,   281.07007721]) \n",
    "\n",
    "\n",
    "ve = 5.0\n",
    "offset = 0\n",
    "scale = 1.0\n",
    "strat_switch = 1\n",
    "layers_switch = 1\n",
    "contour_switch = 1\n",
    "dx = 20.0\n",
    "\n",
    "color_mode = 'facies' # determines how the stratigraphy will be colored; can be 'property', 'facies', or 'time'\n",
    "#colors = [[0.5,0.5,0.5],[0.9,0.9,0],[0.5,0.5,0.5]] # colors for 'facies' display\n",
    "colors = [[1.0,1.0,0],[0.5,0.5,0.5],[0.5,0.5,0.5]]\n",
    "line_thickness = 1.0 # thickness of lines if 'layers_switch' is 1\n",
    "gap = 120 # distance between exploded blocks (if any; in number of gridcells)\n",
    "h = h # channel depth (m)\n",
    "nx = 1 # number of blocks in x direction\n",
    "ny = 1\n",
    "export=0\n",
    "\n",
    "x1 =13500/dx\n",
    "x2 =17500/dx\n",
    "\n",
    "i=25 #i=starttime\n",
    "for j in range(26,111): #j= endtime\n",
    "    \n",
    "    mlab.clf()\n",
    "\n",
    "    chb_3d, xmin, xmax, ymin, ymax,indices,dists,zmaps = chb.build_3d_model_PM_MTD('submarine',h_mud=h_mud,levee_width=levee_width,h=h,w=w,bth=bth,\n",
    "                            dcr=dcr,dx=dx,delta_s=delta_s,starttime=chb.cl_times[i],endtime=chb.cl_times[j],xmin=xmin,xmax=xmax,ymin=ymin,ymax=ymax,CLZjump=CLZjump,TurbidityCurrentHeight=TurbidityCurrentHeight)\n",
    "    \n",
    "    bottom = np.min(chb_3d.strat) - 1.5\n",
    "    \n",
    "    #topo, strat, xmin, xmax, ymin, ymax, X_pix, Y_pix, S_pix, Z_pix = hk.ch_punct_migr(h_mud,levee_width,X,Y,Z,dcr,bth,h,w,dx,Sl,cutoff_times,saved_cl_times,XC,YC,ZC,deltas,saved_ts,starttime,endtime,'hello',CLZjump)\n",
    "    bd.create_exploded_view(chb_3d.strat,chb_3d.facies,chb_3d.topo,h,nx,ny,gap,dx,ve,scale,strat_switch,\n",
    "                        layers_switch,contour_switch,color_mode,colors,line_thickness,bottom,export,20)\n",
    "    \n",
    "    \n",
    "    \n",
    "    #x1 =13500/dx\n",
    "    #x2 =23500/dx\n",
    "    #y1=5000/dx\n",
    "    #y2=-5000/dx\n",
    "    #offset = 0\n",
    "\n",
    "    #bd.create_block_diagram(strat[y1:y2,x1:x2,:],dx,ve,offset,scale,10.0,strat_switch,contour_switch,bottom)\n",
    "\n",
    "    #bd.add_stratigraphy_to_block_diagram(strat[y1:y2,x1:x2,:],dx,ve,offset,scale,layers_switch)\n",
    "    \n",
    "    #UPDATE CAMERA EACH TIME IN CASE MOVED\n",
    "    #mlab.view(azimuth=45,elevation=54.7356, distance=2755.8, focalpoint=[  499.        ,  499.      ,   28.07007721]) \n",
    "\n",
    "    \n",
    "    #MAKE SURE THIS IS CORRECT!!!!!!\n",
    "    #fname = '/Users/paulmorris/Documents/Paper 1/PostJake Python Models/Python3_MayaviVideos/From Flow Sim (Paper 3 Stuff)/BENIN/Benin_Isometric/Benin_IsometricView{}.bmp'.format(j)\n",
    "    fname = '/Users/paulmorris/Documents/Flow Sim Paper/Fall 2021 New Stuff/McHargue Animation/McHargue_XsecView{}.bmp'.format(j)\n",
    "\n",
    "    mlab.savefig(fname)\n",
    "    \n",
    "    ##ISOMETRIC###\n",
    "    #mlab.view(azimuth=45,elevation=54.7356, distance=2755.8, focalpoint=[  499.        ,  499.      ,   28.07007721]) \n",
    "\n",
    "    #PLANVIEW\n",
    "    #mlab.view(azimuth=270,elevation=0, distance=27365.6, focalpoint=[  4990.        ,  4990.      ,   281.07007721]) \n",
    "\n",
    "    #XSECTIONVIEW\n",
    "    mlab.view(azimuth=-90,elevation=90, distance=1000, focalpoint=[  4990.        ,  4990.      ,   281.07007721]) \n",
    "\n",
    "    \n",
    "    #mlab.show()"
   ]
  }
 ],
 "metadata": {
  "kernelspec": {
   "display_name": "Python 3",
   "language": "python",
   "name": "python3"
  },
  "language_info": {
   "codemirror_mode": {
    "name": "ipython",
    "version": 3
   },
   "file_extension": ".py",
   "mimetype": "text/x-python",
   "name": "python",
   "nbconvert_exporter": "python",
   "pygments_lexer": "ipython3",
   "version": "3.7.3"
  }
 },
 "nbformat": 4,
 "nbformat_minor": 2
}
