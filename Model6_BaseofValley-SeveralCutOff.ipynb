{
 "cells": [
  {
   "cell_type": "code",
   "execution_count": 1,
   "metadata": {},
   "outputs": [],
   "source": [
    "from __future__ import division\n",
    "import pdb\n",
    "import numpy as np\n",
    "import matplotlib.pyplot as plt\n",
    "import seaborn as sns  #\n",
    "sns.set_style(\"white\")\n",
    "sns.set_style(\"ticks\")\n",
    "#import meanderpyPM_MTD_Jan2021Amazon_solvecutoffissue as mp  #crdist was changed as was find cutoffs \n",
    "#import meanderpyPM_MTD_Jan2021 as mp\n",
    "import meanderpyPM_MTD_SolveCutoffissue as mp #also used to make Amazon J trajectory\n",
    "import pickle as pickle\n",
    "np.set_printoptions(threshold=100000)\n",
    "import os as os\n",
    "from imp import reload\n",
    "%matplotlib qt\n",
    "\n",
    "%load_ext autoreload\n"
   ]
  },
  {
   "cell_type": "markdown",
   "metadata": {},
   "source": [
    "### LOAD PREVIOUS MODEL"
   ]
  },
  {
   "cell_type": "code",
   "execution_count": 2,
   "metadata": {},
   "outputs": [],
   "source": [
    "#LOAD IN ZAIRE-LIKE CHANNEL BELT MODEL\n",
    "file=open('BeninLike_Initial_Centerline', 'rb') #LOAD IN ZAIRE-LIKE CHANNEL BELT MODEL\n",
    "chb=pickle.load(file)\n",
    "ch=chb.channels[0]"
   ]
  },
  {
   "cell_type": "markdown",
   "metadata": {},
   "source": [
    "### INPUT PARAMETERS"
   ]
  },
  {
   "cell_type": "code",
   "execution_count": 3,
   "metadata": {},
   "outputs": [
    {
     "name": "stdout",
     "output_type": "stream",
     "text": [
      "Alpha =0.002\n",
      "Model on 0.0 degree incline\n"
     ]
    }
   ],
   "source": [
    "W = 600.0                    # channel width (m)\n",
    "D = 60.0                     # channel depth (m)\n",
    "pad = 20                    # padding (number of nodepoints along centerline)\n",
    "deltas = W/3                # sampling distance along centerline\n",
    "#deltas=150\n",
    "saved_ts = 40            # which time steps will be saved         \n",
    "Cf = 0.06                  # dimensionless Chezy friction factor\n",
    "#crdist = 2.5*W               # threshold distance at which cutoffs occur\n",
    "crdist = 2*W \n",
    "kl =   3/(365*24*60*60.0)   # migration rate constant (m/s) #1.5 no bends #1.7 one bend #3 lots of bends \n",
    "kv =  1.0E-11               # vertical slope-dependent erosion rate constant (m/s)\n",
    "dt = 1*365*24*60*60.0 # 0.2 years\n",
    "dens = 1000                  # density of water (kg/m3)\n",
    "n_bends = 30                 # approximate number of bends you want to model\n",
    "#Sl = 0.0175 # initial slope (matters more for submarine channels than rivers)\n",
    "Sl=0\n",
    "bthc = 0.25*D                 # Max thickness of deposited channel sand\n",
    "#t1 = 500                    # time step when incision starts\n",
    "#t2 = 700                    # time step when lateral migration starts\n",
    "#t3 = 1400                    # time step when aggradation starts\n",
    "#aggr_factor = 4e-9           # aggradation factor (m/s, about 0.18 m/year, it kicks in after t3)\n",
    "\n",
    "print(f\"Alpha ={1*2*Cf/D}\")\n",
    "\n",
    "print(f\"Model on {np.arctan(Sl)*180/np.pi} degree incline\")"
   ]
  },
  {
   "cell_type": "markdown",
   "metadata": {},
   "source": [
    "### INPUT TRAJECTORY"
   ]
  },
  {
   "cell_type": "code",
   "execution_count": 4,
   "metadata": {},
   "outputs": [],
   "source": [
    "#dzinput=(0,0,-0.4,-0.4,-0.4,-0.4,0,0,0.3,0.3,0.35,0.35)  \n",
    "   \n",
    "#timeinput=(0,2200,2201,2540,2541,2880,2881,3700,3701,3780,3781,4480)\n",
    "\n",
    "#######AMAZON J Trajectory OLD########  #MTD IS AT ITN==1360\n",
    "#dzinput=(0,0,0.25,0.25) \n",
    "   \n",
    "#timeinput=(0,1040,1041,1640)\n",
    "\n",
    "#######AMAZON J Trajectory OLD########  #MTD IS AT ITN==1360\n",
    "#dzinput=(0,0,0.25,0.25) \n",
    "   \n",
    "#timeinput=(0,840,841,1440)\n",
    "\n",
    "#######AMAZON########\n",
    "#dzinput=(0.35,0.35) \n",
    "   \n",
    "#timeinput=(0,560)   \n",
    "#######################\n",
    "\n",
    "#######ZAIRELIKE - PAPER ONE#######################################\n",
    "dzinput=(0,0,-0.4,-0.4,0,0)  \n",
    "   \n",
    "timeinput=(0,2200,2201,2880,2881,3700)\n",
    "###############################################################\n",
    "\n",
    "#######L Trajectroy kl17 High Sinuosity#######################################\n",
    "#dzinput=(0,0)  \n",
    "   \n",
    "#timeinput=(0,3700)\n",
    "###############################################################\n",
    "\n",
    "#######L Trajectory Most Bends#######################################\n",
    "#dzinput=(0,0,-0.4,-0.4,0,0)  \n",
    "   \n",
    "#timeinput=(0,2200,2201,2880,2881,4500)\n",
    "###############################################################\n",
    "\n",
    "#######BENINLIKE - PAPER ONE Modified#######################################\n",
    "#dzinput=(0,0,-0.4,-0.4,0,0,0.3,0.3,0.3,0.3)  \n",
    "   \n",
    "#timeinput=(0,2200,2201,2880,2881,3700,3701,3780,3781,4480)\n",
    "###############################################################\n",
    "\n",
    "#######BENINLIKE - REINCISION#######################################\n",
    "#dzinput=(0,0,-0.4,-0.4,0,0,0.3,0.3,0.3,0.3,-0.4,-0.4,0,0,0.3,0.3)  \n",
    "   \n",
    "#timeinput=(0,2200,2201,2880,2881,3700,3701,3780,3781,4480,4481,4700,4701,5200,5201,5600) #4480 #18\n",
    "###############################################################\n",
    "\n"
   ]
  },
  {
   "cell_type": "code",
   "execution_count": 5,
   "metadata": {},
   "outputs": [],
   "source": [
    "reload(mp)\n",
    "nit = np.max(timeinput)  # number of iterations\n",
    "\n",
    "dz_trajectory, Z_trajectory, CLZjump,CLZjumpbthc = mp.Compute_Trajectory(nit,saved_ts,timeinput,dzinput,bthc)\n"
   ]
  },
  {
   "cell_type": "markdown",
   "metadata": {},
   "source": [
    "### INITIAL CHANNEL BELT AND HK"
   ]
  },
  {
   "cell_type": "code",
   "execution_count": 6,
   "metadata": {},
   "outputs": [],
   "source": [
    "reload(mp)\n",
    "#ch,sinuosity = mp.generate_initial_channel(W,D,Sl,deltas,pad,n_bends) # initialize channel\n",
    "chb = mp.ChannelBelt(channels=[ch],cutoffs=[],cl_times=[0.0],cutoff_times=[],MTDs=[],MTD_times=[]) # create channel belt object"
   ]
  },
  {
   "cell_type": "code",
   "execution_count": null,
   "metadata": {},
   "outputs": [],
   "source": [
    "channel=chb.channels[-1]"
   ]
  },
  {
   "cell_type": "code",
   "execution_count": null,
   "metadata": {},
   "outputs": [],
   "source": [
    "print(channel)"
   ]
  },
  {
   "cell_type": "code",
   "execution_count": 7,
   "metadata": {},
   "outputs": [
    {
     "name": "stdout",
     "output_type": "stream",
     "text": [
      "Percent: [####################] 99.97297297297297%   "
     ]
    }
   ],
   "source": [
    "chb.migrate_PM(nit,saved_ts,deltas,pad,crdist,Cf,kl,kv,dt,dens,dz_trajectory,D) # channel migration\n",
    "fig = chb.plot('strat',1000000,1000000,end_time=99999999,n_channels=(len(chb.cutoffs) + len(chb.channels)))# plotting #green numbers age at which stuff gets covered by vegetation"
   ]
  },
  {
   "cell_type": "code",
   "execution_count": null,
   "metadata": {},
   "outputs": [],
   "source": [
    "InitialChannelBelt=chb\n",
    "pickle.dump(InitialChannelBelt,open(\"BeninLike2_Initial_Centerline\", \"wb\"),pickle.HIGHEST_PROTOCOL)"
   ]
  },
  {
   "cell_type": "code",
   "execution_count": 8,
   "metadata": {},
   "outputs": [
    {
     "name": "stdout",
     "output_type": "stream",
     "text": [
      "The number of cut-offs = 43\n",
      "The number of centerlines = 94\n",
      "Bed Thickness = is 15.0 meters\n",
      "[0.0, 1.0, 41.0, 81.0, 121.0, 161.0, 201.0, 241.0, 281.0, 321.0, 361.0, 401.0, 441.0, 481.0, 521.0, 561.0, 601.0, 641.0, 681.0, 721.0, 761.0, 801.0, 841.0, 881.0, 921.0, 961.0, 1001.0, 1041.0, 1081.0, 1121.0, 1161.0, 1201.0, 1241.0, 1281.0, 1321.0, 1361.0, 1401.0, 1441.0, 1481.0, 1521.0, 1561.0, 1601.0, 1641.0, 1681.0, 1721.0, 1761.0, 1801.0, 1841.0, 1881.0, 1921.0, 1961.0, 2001.0, 2041.0, 2081.0, 2121.0, 2161.0, 2201.0, 2241.0, 2281.0, 2321.0, 2361.0, 2401.0, 2441.0, 2481.0, 2521.0, 2561.0, 2601.0, 2641.0, 2681.0, 2721.0, 2761.0, 2801.0, 2841.0, 2881.0, 2921.0, 2961.0, 3001.0, 3041.0, 3081.0, 3121.0, 3161.0, 3201.0, 3241.0, 3281.0, 3321.0, 3361.0, 3401.0, 3441.0, 3481.0, 3521.0, 3561.0, 3601.0, 3641.0, 3681.0]\n",
      "94\n",
      "MTD times = []\n"
     ]
    }
   ],
   "source": [
    "print(f\"The number of cut-offs = {len(chb.cutoffs)}\")\n",
    "print(f\"The number of centerlines = {len(chb.channels)}\")\n",
    "#print(f\"The number of MTD's = {len(chb.MTDs)}\")\n",
    "print(f\"Bed Thickness = is {bthc} meters\")\n",
    "print(chb.cl_times)\n",
    "print(len(chb.cl_times))\n",
    "print(f\"MTD times = {chb.MTD_times}\")"
   ]
  },
  {
   "cell_type": "code",
   "execution_count": null,
   "metadata": {},
   "outputs": [],
   "source": [
    "plt.figure()\n",
    "for i in range(len(chb.channels)):\n",
    "    x,y,z,dx,dy,dz,ds,s = mp.resample_centerline(chb.channels[i].x, chb.channels[i].y, chb.channels[i].z, deltas)\n",
    "    z = np.minimum.accumulate(-z[::-1])\n",
    "    z = -z[::-1]\n",
    "    plt.plot(s, z, 'k')"
   ]
  },
  {
   "cell_type": "code",
   "execution_count": null,
   "metadata": {},
   "outputs": [],
   "source": [
    "for i in range(len(chb.channels)):\n",
    "    chb.channels[i].z = np.minimum.accumulate(-chb.channels[i].z[::-1])\n",
    "    chb.channels[i].z = -chb.channels[i].z[::-1]"
   ]
  },
  {
   "cell_type": "code",
   "execution_count": null,
   "metadata": {},
   "outputs": [],
   "source": [
    "pickle.dump(chb.channels[-1],open(\"U_kl8_FinalChannel\", \"wb\"),pickle.HIGHEST_PROTOCOL)"
   ]
  },
  {
   "cell_type": "markdown",
   "metadata": {},
   "source": [
    "### BUILD 3D MODEL"
   ]
  },
  {
   "cell_type": "code",
   "execution_count": 9,
   "metadata": {},
   "outputs": [],
   "source": [
    "\n",
    "starttime=int(chb.cl_times[0])\n",
    "endtime=chb.cl_times[-1]\n",
    "dx=30\n",
    "levee_width=20000\n",
    "h = 1.0*D # channel depth\n",
    "w = 1.0*W # channel width\n",
    "dcr=bthc\n",
    "#bth = bthc*np.ones(((len(chb.cl_times[0:]),)))\n",
    "bth=bthc\n",
    "delta_s=deltas\n",
    "TurbidityCurrentHeight = 150\n",
    "CLZjump=CLZjump\n",
    "#h_mud = 3.0*np.ones((len(chb.cl_times[0:]),))\n",
    "h_mud = 3.0#THIS IS A DUMMY VARIABLE"
   ]
  },
  {
   "cell_type": "code",
   "execution_count": 10,
   "metadata": {},
   "outputs": [
    {
     "name": "stdout",
     "output_type": "stream",
     "text": [
      "Percent: [####################] 98.93617021276596%  "
     ]
    }
   ],
   "source": [
    "reload(mp)\n",
    "\n",
    "#LandU_Traj_kl2(most bends)\n",
    "xmin=21500\n",
    "xmax=26500\n",
    "ymin=-4000\n",
    "ymax=4000\n",
    "\n",
    "\n",
    "\n",
    "chb_3d, xmin, xmax, ymin, ymax,indices,dists,zmaps = chb.build_3d_model_PM_MTD('submarine',h_mud=h_mud,levee_width=levee_width,h=h,w=w,bth=bth,\n",
    "                            dcr=dcr,dx=dx,delta_s=delta_s,starttime=chb.cl_times[0],endtime=chb.cl_times[-1],xmin=xmin,xmax=xmax,ymin=ymin,ymax=ymax,CLZjump=CLZjump,TurbidityCurrentHeight=TurbidityCurrentHeight)"
   ]
  },
  {
   "cell_type": "code",
   "execution_count": null,
   "metadata": {},
   "outputs": [],
   "source": [
    "len(chb.channels)"
   ]
  },
  {
   "cell_type": "code",
   "execution_count": null,
   "metadata": {},
   "outputs": [],
   "source": [
    "chb_3d.plot_top_and_bottom_surfaces()"
   ]
  },
  {
   "cell_type": "code",
   "execution_count": null,
   "metadata": {},
   "outputs": [],
   "source": [
    "fig1,fig2,fig3 = chb_3d.plot_xsection_PM_MTD(140, 5,indices)"
   ]
  },
  {
   "cell_type": "code",
   "execution_count": null,
   "metadata": {},
   "outputs": [],
   "source": [
    "np.shape(chb_3d.strat)"
   ]
  },
  {
   "cell_type": "code",
   "execution_count": null,
   "metadata": {},
   "outputs": [],
   "source": []
  },
  {
   "cell_type": "markdown",
   "metadata": {},
   "source": [
    "### PROPERTY MODELING AND EXPORT "
   ]
  },
  {
   "cell_type": "code",
   "execution_count": null,
   "metadata": {},
   "outputs": [],
   "source": [
    "ny, nx, nz = np.shape(chb_3d.strat)\n",
    "h = D # channel depth\n",
    "porosity = np.zeros((ny-1,nx-1,nz-1)) # property grids have to be one element smaller than the actual grid\n",
    "\n",
    "poro_max=0.35\n",
    "trend=8\n",
    "\n",
    "for i in range(zmaps.shape[2]): # only working with channel sands\n",
    "    hat = np.abs(chb_3d.topo[:,:,4*i+1] - zmaps[:,:,i] + h) # height above thalweg\n",
    "    th = chb_3d.topo[:,:,4*i+4] - chb_3d.topo[:,:,4*i+3] # thickness of channel deposit\n",
    "    hat[th==0] = 1000 # set a large HAT value where thickness is zero (we want zero porosity here)\n",
    "    #t = 0.25*(hat[1:,1:]+hat[1:,:-1]+hat[:-1,1:]+hat[:-1,:-1]) # average HAT for porosity grid\n",
    "    t = 0.25*(hat[1:,1:]+hat[1:,:-1]+hat[:-1,1:]+hat[:-1,:-1]) # average HAT for porosity grid\n",
    "    t = t-np.min(t)\n",
    "    \n",
    "    #t[t>30] = 30 \n",
    "    t[t>trend] = trend #lower number means porosity reduces more rapidly into margin\n",
    "    \n",
    "    # porosity is a function of elevation (the higher the elevation, the lower the porosity):\n",
    "    #t = 0.35 - 0.35*(t/30.0)\n",
    "    t = poro_max - poro_max*(t/trend) #Max porosity is 0.25\n",
    "    \n",
    "    porosity[:,:,3*i+2] = t # assign porosity\n",
    "    \n",
    "#PAUL CODE - Turn cells either side in model ON or OFF\n",
    "\n",
    "#porosity[:,:,:]=0\n",
    "\n",
    "#porosity[:,:,:]=0\n",
    "\n",
    "\n",
    "porosity[porosity>poro_max] = poro_max\n",
    "permeability = 10**(17*porosity-3)\n",
    "permeability[porosity==0] = 0"
   ]
  },
  {
   "cell_type": "code",
   "execution_count": null,
   "metadata": {},
   "outputs": [],
   "source": [
    "# QC porosity volume\n",
    "\n",
    "plt.figure()\n",
    "plt.imshow(porosity[:,:,2])\n",
    "plt.colorbar()"
   ]
  },
  {
   "cell_type": "code",
   "execution_count": null,
   "metadata": {},
   "outputs": [],
   "source": [
    "# QC porosity volume\n",
    "\n",
    "plt.figure()\n",
    "plt.imshow(porosity[:,:,305])\n",
    "plt.colorbar()"
   ]
  },
  {
   "cell_type": "code",
   "execution_count": null,
   "metadata": {},
   "outputs": [],
   "source": [
    "# QC porosity volume\n",
    "\n",
    "plt.figure()\n",
    "plt.imshow(porosity[:,:,272])\n",
    "plt.colorbar()"
   ]
  },
  {
   "cell_type": "code",
   "execution_count": null,
   "metadata": {},
   "outputs": [],
   "source": [
    "np.shape(porosity)"
   ]
  },
  {
   "cell_type": "code",
   "execution_count": null,
   "metadata": {},
   "outputs": [],
   "source": [
    "os.chdir('/Users/paulmorris/Documents/Flow Sim Paper/Fall 2021 New Stuff/Eclipse Models')"
   ]
  },
  {
   "cell_type": "code",
   "execution_count": null,
   "metadata": {},
   "outputs": [],
   "source": [
    "def write_eclipse_grid(strat,porosity,permeability,dx,fname):\n",
    "    '''function for exporting an Eclipse file ('.grdecl' format)\n",
    "    from an array of stratigraphic surfaces ('strat') and an array of \n",
    "    porosity ('porosity'); (additional 'keywords' like ACTNUM and SATNUM \n",
    "    can be added the same way as porosity)\n",
    "\n",
    "    ordering of cornerpoints for first (uppermost) surface in Eclipse:\n",
    "    ----------------------------------------\n",
    "    | 1        2 | 3        4 | 5        6 | \n",
    "    |            |            |            |\n",
    "    | 7        8 | 9       10 | 11      12 |\n",
    "    ----------------------------------------\n",
    "    | 13      14 | 15      16 | 17      18 |\n",
    "    |            |            |            |\n",
    "    | 19      20 | 21      22 | 23      24 |\n",
    "    ----------------------------------------\n",
    "\n",
    "    Inputs:\n",
    "    strat - stratigraphic surfaces (outputs from channel model)\n",
    "    porosity - porosity grid\n",
    "    dx - gridcell size (in meters)\n",
    "    fname - filename of the Eclipse file to be written\n",
    "    '''\n",
    "\n",
    "    # these swaps have to be done because the logic below was written for this ordering of the axes\n",
    "    surfs = np.swapaxes(strat, 0, 2) \n",
    "    surfs = np.swapaxes(surfs, 1, 2)\n",
    "    porosity = np.swapaxes(porosity, 0, 2)\n",
    "    porosity = np.swapaxes(porosity, 1, 2)\n",
    "    permeability = np.swapaxes(permeability, 0, 2)\n",
    "    permeability = np.swapaxes(permeability, 1, 2)\n",
    "    \n",
    "    nz,ny,nx = np.shape(surfs);\n",
    "    nz=nz-1 # number of cells in z direction\n",
    "    ny=ny-1 # number of cells in y direction\n",
    "    nx=nx-1 # number of cells in x direction\n",
    "\n",
    "    dy=dx  # size of cells in x and y directions\n",
    "\n",
    "    print('creating cornerpoint array(ZCORN)')\n",
    "    zcorn = np.zeros((8*nx*ny*nz,))\n",
    "    for k in range(nz):\n",
    "        # write cornerpoints for the top of layer 'k':\n",
    "        surf = np.squeeze(surfs[k,:,:])\n",
    "        zc = np.zeros((2*ny,2*nx))\n",
    "        zc[::2,::2] = surf[:-1,:-1]\n",
    "        zc[1::2,1::2] = surf[1:,1:]\n",
    "        zc[1::2,::2] = surf[1:,:-1]\n",
    "        zc[::2,1::2] = surf[:-1,1:]\n",
    "        zc = np.reshape(zc,(1,4*nx*ny))\n",
    "        zcorn[(2*k)*4*nx*ny : (2*k+1)*4*nx*ny] = zc;\n",
    "        \n",
    "        # write cornerpoints for the bottom of layer 'k':\n",
    "        surf = np.squeeze(surfs[k+1,:,:])\n",
    "        zc = np.zeros((2*ny,2*nx));\n",
    "        zc[::2,::2] = surf[:-1,:-1]\n",
    "        zc[1::2,1::2] = surf[1:,1:]\n",
    "        zc[1::2,::2] = surf[1:,:-1]\n",
    "        zc[::2,1::2] = surf[:-1,1:]\n",
    "        zc = np.reshape(zc,(1,4*nx*ny))\n",
    "        zcorn[(2*k+1)*4*nx*ny : (2*k+2)*4*nx*ny] = zc\n",
    "    zcorn = np.reshape(zcorn, (int(len(zcorn)/8), 8))\n",
    "    zcorn = 100 * zcorn # convert meters to centimeters\n",
    "\n",
    "    print('creating pillar matrix (COORD)')\n",
    "    coord = np.zeros(((nx+1)*(ny+1),6));\n",
    "    for j in range(ny+1):\n",
    "        for i in range(nx+1):\n",
    "            coord[j*(nx+1)+i,0] = i*dx\n",
    "            coord[j*(nx+1)+i,1] = j*dy\n",
    "            coord[j*(nx+1)+i,2] = surfs[0,j,i] \n",
    "            coord[j*(nx+1)+i,3] = i*dx\n",
    "            coord[j*(nx+1)+i,4] = j*dy\n",
    "            coord[j*(nx+1)+i,5] = surfs[-1,j,i]\n",
    "    coord = 100 * coord # convert meters to centimeters\n",
    "\n",
    "    print('creating porosity array (PORO)')\n",
    "    poro = np.zeros((nx*ny*nz,))\n",
    "    [i,j,k] = np.meshgrid(np.arange(nx),np.arange(ny),np.arange(nz))\n",
    "    ind1 = k*nx*ny + j*nx+i \n",
    "    ind2 = np.ravel_multi_index((k,j,i),(nz,ny,nx))\n",
    "    poro[ind1] = porosity.flatten()[ind2]\n",
    "    if np.mod(len(poro),8)==0: # if length of porosity array is a multiple of 8\n",
    "        poro_1 = np.reshape(poro, (int(len(poro)/8), 8))\n",
    "    else:\n",
    "        poro_1 = np.reshape(poro[:-np.mod(len(poro),8)], (int(len(poro)/8), 8))\n",
    "\n",
    "    print('creating permeability array (PERM)')\n",
    "    perm = np.zeros((nx*ny*nz,))\n",
    "    perm[ind1] = permeability.flatten()[ind2]\n",
    "    if np.mod(len(perm),8)==0: # if length of porosity array is a multiple of 8\n",
    "        perm_1 = np.reshape(perm, (int(len(perm)/8), 8))\n",
    "    else:\n",
    "        perm_1 = np.reshape(perm[:-np.mod(len(perm),8)], (int(len(perm)/8), 8))\n",
    "    \n",
    "    # write file:\n",
    "    fid = open(fname, 'a')\n",
    "    fid.write('SPECGRID\\n')\n",
    "    fid.write('%d %d %d' %(nx, ny, nz) + ' 1 F /\\n')\n",
    "    fid.write('COORD\\n')\n",
    "    print('writing pillars...')\n",
    "    for i in range(coord.shape[0]):\n",
    "        fid.write('%6.3f %6.3f %6.3f %6.3f %6.3f %6.3f\\n' %tuple(coord[i,:]))\n",
    "    fid.write('/\\n')\n",
    "    fid.write(' ')\n",
    "    fid.write('\\n')\n",
    "    fid.write('ZCORN\\n')\n",
    "    print('writing zcorns...')\n",
    "    for i in range(zcorn.shape[0]):\n",
    "        fid.write('%6.3f %6.3f %6.3f %6.3f %6.3f %6.3f %6.3f %6.3f\\n' %tuple(zcorn[i,:]))\n",
    "    fid.write('/\\n')\n",
    "    fid.write(' ')\n",
    "    fid.write('\\n')\n",
    "    fid.write('PORO\\n')\n",
    "    print('writing porosity...')\n",
    "    for i in range(poro_1.shape[0]):\n",
    "        fid.write('%6.4f %6.4f %6.4f %6.4f %6.4f %6.4f %6.4f %6.4f\\n' %tuple(poro_1[i,:]))\n",
    "    if np.mod(len(poro),8)!=0: # if length of porosity array is not a multiple of 8\n",
    "        for i in range(np.mod(len(poro),8)):\n",
    "            fid.write('%6.4f ' %poro[-np.mod(len(poro),8):][i])\n",
    "        fid.write('\\n')\n",
    "    fid.write('/\\n')\n",
    "    fid.write(' ')\n",
    "    fid.write('\\n')\n",
    "    fid.write('PERMX\\n')\n",
    "    print('writing permeability...')\n",
    "    for i in range(perm_1.shape[0]):\n",
    "        fid.write('%6.4f %6.4f %6.4f %6.4f %6.4f %6.4f %6.4f %6.4f\\n' %tuple(perm_1[i,:]))\n",
    "    if np.mod(len(perm),8)!=0: # if length of porosity array is not a multiple of 8\n",
    "        for i in range(np.mod(len(perm),8)):\n",
    "            fid.write('%6.4f ' %perm[-np.mod(len(perm),8):][i])\n",
    "        fid.write('\\n')\n",
    "    fid.write('/\\n')\n",
    "    fid.close()"
   ]
  },
  {
   "cell_type": "code",
   "execution_count": null,
   "metadata": {},
   "outputs": [],
   "source": [
    "dx = 30.0\n",
    "write_eclipse_grid(-1*(chb_3d.strat[:,:,::-1]-500), porosity[:,:,::-1], permeability[:,:,::-1], dx, 'L_kl1.5_SD2.9_v2.grdecl')\n",
    "\n"
   ]
  },
  {
   "cell_type": "markdown",
   "metadata": {},
   "source": [
    "### SHOW 3D MODEL MAYAVI"
   ]
  },
  {
   "cell_type": "code",
   "execution_count": 11,
   "metadata": {},
   "outputs": [
    {
     "name": "stdout",
     "output_type": "stream",
     "text": [
      "Percent: [####################] 99.64539007092199%  block 1 done, out of 1 blocks\n"
     ]
    }
   ],
   "source": [
    "import blockdiagram_Paul as bd\n",
    "from mayavi import mlab \n",
    "reload(bd)\n",
    "%matplotlib qt\n",
    "\n",
    "mlab.figure(bgcolor=(1,1,1)) \n",
    "ve = 2.0 # vertical exaggeration\n",
    "scale = 0.1 # scaling of diagram (important for 3D printing)\n",
    "strat_switch = 1 # equals 1 if you want stratigraphy displayed on the sides\n",
    "layers_switch = 0 # equals 1 if you want stratigraphic boundaries displayed on the sides\n",
    "contour_switch = 1 # equals 1 if you want contours displayed on the top surface\n",
    "dx = 30.0 # cell size for display\n",
    "bottom = np.min(chb_3d.strat) - 1.5 # elevation of bottom side of diagram\n",
    "color_mode = 'facies' # determines how the stratigraphy will be colored; can be 'property', 'facies', or 'time'\n",
    "colors = [[0.5,0.5,0.5],[0.9,0.9,0],[0.5,0.5,0.5]] # colors for 'facies' display\n",
    "line_thickness = 1.0 # thickness of lines if 'layers_switch' is 1\n",
    "gap = 120 # distance between exploded blocks (if any; in number of gridcells)\n",
    "h = h # channel depth (m)\n",
    "nx = 1 # number of blocks in x direction\n",
    "ny = 1\n",
    "export = 0\n",
    "bd.create_exploded_view(chb_3d.strat,chb_3d.facies,chb_3d.topo,h,nx,ny,gap,dx,ve,scale,strat_switch,\n",
    "                        layers_switch,contour_switch,color_mode,colors,line_thickness,bottom,export)"
   ]
  },
  {
   "cell_type": "code",
   "execution_count": null,
   "metadata": {},
   "outputs": [],
   "source": [
    "gap=120\n",
    "bd.create_exploded_view(chb_3d.strat,chb_3d.facies,chb_3d.topo,h,2,2,gap,dx,ve,scale,strat_switch,\n",
    "                        layers_switch,contour_switch,color_mode,colors,line_thickness,bottom,export)"
   ]
  },
  {
   "cell_type": "markdown",
   "metadata": {},
   "source": [
    "#### Create fence diagram"
   ]
  },
  {
   "cell_type": "code",
   "execution_count": null,
   "metadata": {},
   "outputs": [],
   "source": [
    "mlab.figure(bgcolor=(1,1,1))\n",
    "bd.create_fence_diagram(chb_3d.strat,chb_3d.facies,chb_3d.topo,h,4,2,gap,dx,ve,scale,layers_switch,color_mode,colors,line_thickness,bottom,export)"
   ]
  },
  {
   "cell_type": "code",
   "execution_count": null,
   "metadata": {},
   "outputs": [],
   "source": []
  }
 ],
 "metadata": {
  "kernelspec": {
   "display_name": "Python 3",
   "language": "python",
   "name": "python3"
  },
  "language_info": {
   "codemirror_mode": {
    "name": "ipython",
    "version": 3
   },
   "file_extension": ".py",
   "mimetype": "text/x-python",
   "name": "python",
   "nbconvert_exporter": "python",
   "pygments_lexer": "ipython3",
   "version": "3.7.3"
  }
 },
 "nbformat": 4,
 "nbformat_minor": 2
}
